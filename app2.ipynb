{
 "cells": [
  {
   "cell_type": "code",
   "execution_count": 3,
   "id": "824a62af-8c11-4401-acfc-06615261699f",
   "metadata": {},
   "outputs": [
    {
     "name": "stdout",
     "output_type": "stream",
     "text": [
      "Collecting git+https://github.com/suno-ai/bark.git\n",
      "  Cloning https://github.com/suno-ai/bark.git to c:\\users\\alin\\appdata\\local\\temp\\pip-req-build-3ylyfoom\n",
      "  Resolved https://github.com/suno-ai/bark.git to commit 773624d26db84278a55aacae9a16d7b25fbccab8\n",
      "  Installing build dependencies: started\n",
      "  Installing build dependencies: finished with status 'done'\n",
      "  Getting requirements to build wheel: started\n",
      "  Getting requirements to build wheel: finished with status 'done'\n",
      "  Installing backend dependencies: started\n",
      "  Installing backend dependencies: finished with status 'done'\n",
      "  Preparing metadata (pyproject.toml): started\n",
      "  Preparing metadata (pyproject.toml): finished with status 'done'\n",
      "Requirement already satisfied: boto3 in c:\\users\\alin\\appdata\\local\\programs\\python\\python311\\lib\\site-packages (from suno-bark==0.0.1a0) (1.28.63)\n",
      "Requirement already satisfied: encodec in c:\\users\\alin\\appdata\\local\\programs\\python\\python311\\lib\\site-packages (from suno-bark==0.0.1a0) (0.1.1)\n",
      "Requirement already satisfied: funcy in c:\\users\\alin\\appdata\\local\\programs\\python\\python311\\lib\\site-packages (from suno-bark==0.0.1a0) (2.0)\n",
      "Requirement already satisfied: huggingface-hub>=0.14.1 in c:\\users\\alin\\appdata\\local\\programs\\python\\python311\\lib\\site-packages (from suno-bark==0.0.1a0) (0.19.4)\n",
      "Requirement already satisfied: numpy in c:\\users\\alin\\appdata\\local\\programs\\python\\python311\\lib\\site-packages (from suno-bark==0.0.1a0) (1.23.5)\n",
      "Requirement already satisfied: scipy in c:\\users\\alin\\appdata\\local\\programs\\python\\python311\\lib\\site-packages (from suno-bark==0.0.1a0) (1.10.1)\n",
      "Requirement already satisfied: tokenizers in c:\\users\\alin\\appdata\\local\\programs\\python\\python311\\lib\\site-packages (from suno-bark==0.0.1a0) (0.15.0)\n",
      "Requirement already satisfied: torch in c:\\users\\alin\\appdata\\local\\programs\\python\\python311\\lib\\site-packages (from suno-bark==0.0.1a0) (2.1.1)\n",
      "Requirement already satisfied: tqdm in c:\\users\\alin\\appdata\\local\\programs\\python\\python311\\lib\\site-packages (from suno-bark==0.0.1a0) (4.66.1)\n",
      "Requirement already satisfied: transformers in c:\\users\\alin\\appdata\\local\\programs\\python\\python311\\lib\\site-packages (from suno-bark==0.0.1a0) (4.36.0.dev0)\n",
      "Requirement already satisfied: filelock in c:\\users\\alin\\appdata\\local\\programs\\python\\python311\\lib\\site-packages (from huggingface-hub>=0.14.1->suno-bark==0.0.1a0) (3.10.0)\n",
      "Requirement already satisfied: fsspec>=2023.5.0 in c:\\users\\alin\\appdata\\local\\programs\\python\\python311\\lib\\site-packages (from huggingface-hub>=0.14.1->suno-bark==0.0.1a0) (2023.12.0)\n",
      "Requirement already satisfied: requests in c:\\users\\alin\\appdata\\local\\programs\\python\\python311\\lib\\site-packages (from huggingface-hub>=0.14.1->suno-bark==0.0.1a0) (2.28.2)\n",
      "Requirement already satisfied: pyyaml>=5.1 in c:\\users\\alin\\appdata\\local\\programs\\python\\python311\\lib\\site-packages (from huggingface-hub>=0.14.1->suno-bark==0.0.1a0) (6.0.1)\n",
      "Requirement already satisfied: typing-extensions>=3.7.4.3 in c:\\users\\alin\\appdata\\local\\programs\\python\\python311\\lib\\site-packages (from huggingface-hub>=0.14.1->suno-bark==0.0.1a0) (4.5.0)\n",
      "Requirement already satisfied: packaging>=20.9 in c:\\users\\alin\\appdata\\local\\programs\\python\\python311\\lib\\site-packages (from huggingface-hub>=0.14.1->suno-bark==0.0.1a0) (23.0)\n",
      "Requirement already satisfied: colorama in c:\\users\\alin\\appdata\\local\\programs\\python\\python311\\lib\\site-packages (from tqdm->suno-bark==0.0.1a0) (0.4.6)\n",
      "Requirement already satisfied: botocore<1.32.0,>=1.31.63 in c:\\users\\alin\\appdata\\local\\programs\\python\\python311\\lib\\site-packages (from boto3->suno-bark==0.0.1a0) (1.31.63)\n",
      "Requirement already satisfied: jmespath<2.0.0,>=0.7.1 in c:\\users\\alin\\appdata\\local\\programs\\python\\python311\\lib\\site-packages (from boto3->suno-bark==0.0.1a0) (1.0.1)\n",
      "Requirement already satisfied: s3transfer<0.8.0,>=0.7.0 in c:\\users\\alin\\appdata\\local\\programs\\python\\python311\\lib\\site-packages (from boto3->suno-bark==0.0.1a0) (0.7.0)\n",
      "Requirement already satisfied: torchaudio in c:\\users\\alin\\appdata\\local\\programs\\python\\python311\\lib\\site-packages (from encodec->suno-bark==0.0.1a0) (2.1.1)\n",
      "Requirement already satisfied: einops in c:\\users\\alin\\appdata\\local\\programs\\python\\python311\\lib\\site-packages (from encodec->suno-bark==0.0.1a0) (0.7.0)\n",
      "Requirement already satisfied: sympy in c:\\users\\alin\\appdata\\local\\programs\\python\\python311\\lib\\site-packages (from torch->suno-bark==0.0.1a0) (1.12)\n",
      "Requirement already satisfied: networkx in c:\\users\\alin\\appdata\\local\\programs\\python\\python311\\lib\\site-packages (from torch->suno-bark==0.0.1a0) (3.2.1)\n",
      "Requirement already satisfied: jinja2 in c:\\users\\alin\\appdata\\local\\programs\\python\\python311\\lib\\site-packages (from torch->suno-bark==0.0.1a0) (3.1.2)\n",
      "Requirement already satisfied: regex!=2019.12.17 in c:\\users\\alin\\appdata\\local\\programs\\python\\python311\\lib\\site-packages (from transformers->suno-bark==0.0.1a0) (2023.10.3)\n",
      "Requirement already satisfied: safetensors>=0.3.1 in c:\\users\\alin\\appdata\\local\\programs\\python\\python311\\lib\\site-packages (from transformers->suno-bark==0.0.1a0) (0.4.1)\n",
      "Requirement already satisfied: python-dateutil<3.0.0,>=2.1 in c:\\users\\alin\\appdata\\local\\programs\\python\\python311\\lib\\site-packages (from botocore<1.32.0,>=1.31.63->boto3->suno-bark==0.0.1a0) (2.8.2)\n",
      "Requirement already satisfied: urllib3<2.1,>=1.25.4 in c:\\users\\alin\\appdata\\local\\programs\\python\\python311\\lib\\site-packages (from botocore<1.32.0,>=1.31.63->boto3->suno-bark==0.0.1a0) (1.26.15)\n",
      "Requirement already satisfied: MarkupSafe>=2.0 in c:\\users\\alin\\appdata\\local\\programs\\python\\python311\\lib\\site-packages (from jinja2->torch->suno-bark==0.0.1a0) (2.1.2)\n",
      "Requirement already satisfied: charset-normalizer<4,>=2 in c:\\users\\alin\\appdata\\local\\programs\\python\\python311\\lib\\site-packages (from requests->huggingface-hub>=0.14.1->suno-bark==0.0.1a0) (3.1.0)\n",
      "Requirement already satisfied: idna<4,>=2.5 in c:\\users\\alin\\appdata\\local\\programs\\python\\python311\\lib\\site-packages (from requests->huggingface-hub>=0.14.1->suno-bark==0.0.1a0) (3.4)\n",
      "Requirement already satisfied: certifi>=2017.4.17 in c:\\users\\alin\\appdata\\local\\programs\\python\\python311\\lib\\site-packages (from requests->huggingface-hub>=0.14.1->suno-bark==0.0.1a0) (2022.12.7)\n",
      "Requirement already satisfied: mpmath>=0.19 in c:\\users\\alin\\appdata\\local\\programs\\python\\python311\\lib\\site-packages (from sympy->torch->suno-bark==0.0.1a0) (1.3.0)\n",
      "Requirement already satisfied: six>=1.5 in c:\\users\\alin\\appdata\\local\\programs\\python\\python311\\lib\\site-packages (from python-dateutil<3.0.0,>=2.1->botocore<1.32.0,>=1.31.63->boto3->suno-bark==0.0.1a0) (1.16.0)\n"
     ]
    },
    {
     "name": "stderr",
     "output_type": "stream",
     "text": [
      "  Running command git clone --filter=blob:none --quiet https://github.com/suno-ai/bark.git 'C:\\Users\\ALIN\\AppData\\Local\\Temp\\pip-req-build-3ylyfoom'\n"
     ]
    }
   ],
   "source": [
    "!pip install git+https://github.com/suno-ai/bark.git"
   ]
  },
  {
   "cell_type": "code",
   "execution_count": 4,
   "id": "cd6b204a-74ad-4688-81a8-3cae40539eff",
   "metadata": {},
   "outputs": [
    {
     "ename": "FileNotFoundError",
     "evalue": "[Errno 2] No such file or directory: 'C:\\\\Users\\\\ALIN\\\\.cache\\\\huggingface\\\\hub\\\\models--suno--bark\\\\snapshots\\\\70a8a7d34168586dc5d028fa9666aceade177992\\\\tokenizer_config.json'",
     "output_type": "error",
     "traceback": [
      "\u001b[1;31m---------------------------------------------------------------------------\u001b[0m",
      "\u001b[1;31mFileNotFoundError\u001b[0m                         Traceback (most recent call last)",
      "Cell \u001b[1;32mIn[4], line 3\u001b[0m\n\u001b[0;32m      1\u001b[0m \u001b[38;5;28;01mfrom\u001b[39;00m \u001b[38;5;21;01mtransformers\u001b[39;00m \u001b[38;5;28;01mimport\u001b[39;00m AutoProcessor, BarkModel\n\u001b[1;32m----> 3\u001b[0m processor \u001b[38;5;241m=\u001b[39m \u001b[43mAutoProcessor\u001b[49m\u001b[38;5;241;43m.\u001b[39;49m\u001b[43mfrom_pretrained\u001b[49m\u001b[43m(\u001b[49m\u001b[38;5;124;43m\"\u001b[39;49m\u001b[38;5;124;43msuno/bark\u001b[39;49m\u001b[38;5;124;43m\"\u001b[39;49m\u001b[43m)\u001b[49m\n\u001b[0;32m      4\u001b[0m model \u001b[38;5;241m=\u001b[39m BarkModel\u001b[38;5;241m.\u001b[39mfrom_pretrained(\u001b[38;5;124m\"\u001b[39m\u001b[38;5;124msuno/bark\u001b[39m\u001b[38;5;124m\"\u001b[39m)\n\u001b[0;32m      6\u001b[0m voice_preset \u001b[38;5;241m=\u001b[39m \u001b[38;5;124m\"\u001b[39m\u001b[38;5;124mv2/en_speaker_6\u001b[39m\u001b[38;5;124m\"\u001b[39m\n",
      "File \u001b[1;32m~\\AppData\\Local\\Programs\\Python\\Python311\\Lib\\site-packages\\transformers\\models\\auto\\processing_auto.py:256\u001b[0m, in \u001b[0;36mAutoProcessor.from_pretrained\u001b[1;34m(cls, pretrained_model_name_or_path, **kwargs)\u001b[0m\n\u001b[0;32m    252\u001b[0m tokenizer_config_file \u001b[38;5;241m=\u001b[39m get_file_from_repo(\n\u001b[0;32m    253\u001b[0m     pretrained_model_name_or_path, TOKENIZER_CONFIG_FILE, \u001b[38;5;241m*\u001b[39m\u001b[38;5;241m*\u001b[39mget_file_from_repo_kwargs\n\u001b[0;32m    254\u001b[0m )\n\u001b[0;32m    255\u001b[0m \u001b[38;5;28;01mif\u001b[39;00m tokenizer_config_file \u001b[38;5;129;01mis\u001b[39;00m \u001b[38;5;129;01mnot\u001b[39;00m \u001b[38;5;28;01mNone\u001b[39;00m:\n\u001b[1;32m--> 256\u001b[0m     \u001b[38;5;28;01mwith\u001b[39;00m \u001b[38;5;28;43mopen\u001b[39;49m\u001b[43m(\u001b[49m\u001b[43mtokenizer_config_file\u001b[49m\u001b[43m,\u001b[49m\u001b[43m \u001b[49m\u001b[43mencoding\u001b[49m\u001b[38;5;241;43m=\u001b[39;49m\u001b[38;5;124;43m\"\u001b[39;49m\u001b[38;5;124;43mutf-8\u001b[39;49m\u001b[38;5;124;43m\"\u001b[39;49m\u001b[43m)\u001b[49m \u001b[38;5;28;01mas\u001b[39;00m reader:\n\u001b[0;32m    257\u001b[0m         config_dict \u001b[38;5;241m=\u001b[39m json\u001b[38;5;241m.\u001b[39mload(reader)\n\u001b[0;32m    259\u001b[0m     processor_class \u001b[38;5;241m=\u001b[39m config_dict\u001b[38;5;241m.\u001b[39mget(\u001b[38;5;124m\"\u001b[39m\u001b[38;5;124mprocessor_class\u001b[39m\u001b[38;5;124m\"\u001b[39m, \u001b[38;5;28;01mNone\u001b[39;00m)\n",
      "\u001b[1;31mFileNotFoundError\u001b[0m: [Errno 2] No such file or directory: 'C:\\\\Users\\\\ALIN\\\\.cache\\\\huggingface\\\\hub\\\\models--suno--bark\\\\snapshots\\\\70a8a7d34168586dc5d028fa9666aceade177992\\\\tokenizer_config.json'"
     ]
    }
   ],
   "source": [
    "from transformers import AutoProcessor, BarkModel\n",
    "\n",
    "processor = AutoProcessor.from_pretrained(\"suno/bark\")\n",
    "model = BarkModel.from_pretrained(\"suno/bark\")\n",
    "\n",
    "voice_preset = \"v2/en_speaker_6\"\n",
    "\n",
    "inputs = processor(\"Hello, my dog is cute\", voice_preset=voice_preset)\n",
    "\n",
    "audio_array = model.generate(**inputs)\n",
    "audio_array = audio_array.cpu().numpy().squeeze()"
   ]
  },
  {
   "cell_type": "code",
   "execution_count": null,
   "id": "e39be8f4-acd0-4844-b9cf-cf3d58cad8ba",
   "metadata": {},
   "outputs": [],
   "source": []
  }
 ],
 "metadata": {
  "kernelspec": {
   "display_name": "Python 3 (ipykernel)",
   "language": "python",
   "name": "python3"
  },
  "language_info": {
   "codemirror_mode": {
    "name": "ipython",
    "version": 3
   },
   "file_extension": ".py",
   "mimetype": "text/x-python",
   "name": "python",
   "nbconvert_exporter": "python",
   "pygments_lexer": "ipython3",
   "version": "3.11.1"
  }
 },
 "nbformat": 4,
 "nbformat_minor": 5
}
